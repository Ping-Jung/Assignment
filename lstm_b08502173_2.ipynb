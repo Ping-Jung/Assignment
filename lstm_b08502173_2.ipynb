{
  "cells": [
    {
      "cell_type": "markdown",
      "metadata": {
        "id": "view-in-github",
        "colab_type": "text"
      },
      "source": [
        "<a href=\"https://colab.research.google.com/github/Ping-Jung/my-web/blob/main/lstm_b08502173_2.ipynb\" target=\"_parent\"><img src=\"https://colab.research.google.com/assets/colab-badge.svg\" alt=\"Open In Colab\"/></a>"
      ]
    },
    {
      "cell_type": "markdown",
      "metadata": {
        "id": "zs6BAr1Q7-fc"
      },
      "source": [
        "### Multivariate Multistep Time Series Forecasting using Stacked LSTM sequence to sequence Autoencoder in Tensorflow 2.0 / Keras "
      ]
    },
    {
      "cell_type": "code",
      "execution_count": null,
      "metadata": {
        "id": "cgtE_Cnzhf7s"
      },
      "outputs": [],
      "source": [
        "import pandas as pd\n",
        "import numpy as np\n",
        "from sklearn.preprocessing import MinMaxScaler\n",
        "from sklearn.model_selection import train_test_split\n",
        "import matplotlib.pyplot as plt\n",
        "import tensorflow as tf\n",
        "import os"
      ]
    },
    {
      "cell_type": "markdown",
      "metadata": {
        "id": "w_cOXmiWj_Az"
      },
      "source": [
        "Downloading the dataset"
      ]
    },
    {
      "cell_type": "code",
      "execution_count": null,
      "metadata": {
        "colab": {
          "base_uri": "https://localhost:8080/"
        },
        "id": "edgZZr8fjKoj",
        "outputId": "3363c143-3d85-4802-8072-074ff15b4ff0"
      },
      "outputs": [
        {
          "output_type": "stream",
          "name": "stdout",
          "text": [
            "--2022-05-20 08:45:39--  https://archive.ics.uci.edu/ml/machine-learning-databases/00235/household_power_consumption.zip\n",
            "Resolving archive.ics.uci.edu (archive.ics.uci.edu)... 128.195.10.252\n",
            "Connecting to archive.ics.uci.edu (archive.ics.uci.edu)|128.195.10.252|:443... connected.\n",
            "HTTP request sent, awaiting response... 200 OK\n",
            "Length: 20640916 (20M) [application/x-httpd-php]\n",
            "Saving to: ‘household_power_consumption.zip’\n",
            "\n",
            "household_power_con 100%[===================>]  19.68M  35.9MB/s    in 0.5s    \n",
            "\n",
            "2022-05-20 08:45:40 (35.9 MB/s) - ‘household_power_consumption.zip’ saved [20640916/20640916]\n",
            "\n"
          ]
        }
      ],
      "source": [
        "!wget https://archive.ics.uci.edu/ml/machine-learning-databases/00235/household_power_consumption.zip"
      ]
    },
    {
      "cell_type": "code",
      "execution_count": null,
      "metadata": {
        "colab": {
          "base_uri": "https://localhost:8080/"
        },
        "id": "BvrQC1fiju0o",
        "outputId": "2bb43cfc-7fb3-458d-a9f4-d8ecb150c43e"
      },
      "outputs": [
        {
          "output_type": "stream",
          "name": "stdout",
          "text": [
            "Archive:  household_power_consumption.zip\n",
            "  inflating: household_power_consumption.txt  \n"
          ]
        }
      ],
      "source": [
        "!unzip household_power_consumption.zip  "
      ]
    },
    {
      "cell_type": "markdown",
      "metadata": {
        "id": "nGNBcAH7kGri"
      },
      "source": [
        "**Text to CSV**"
      ]
    },
    {
      "cell_type": "code",
      "execution_count": null,
      "metadata": {
        "colab": {
          "base_uri": "https://localhost:8080/",
          "height": 237
        },
        "id": "xZ-E82TBhrpu",
        "outputId": "a23462e5-c84f-40fc-d0ef-c301dcb018e8"
      },
      "outputs": [
        {
          "output_type": "execute_result",
          "data": {
            "text/plain": [
              "                    Global_active_power Global_reactive_power  Voltage  \\\n",
              "datetime                                                                 \n",
              "2006-12-16 17:24:00               4.216                 0.418  234.840   \n",
              "2006-12-16 17:25:00               5.360                 0.436  233.630   \n",
              "2006-12-16 17:26:00               5.374                 0.498  233.290   \n",
              "2006-12-16 17:27:00               5.388                 0.502  233.740   \n",
              "2006-12-16 17:28:00               3.666                 0.528  235.680   \n",
              "\n",
              "                    Global_intensity Sub_metering_1 Sub_metering_2  \\\n",
              "datetime                                                             \n",
              "2006-12-16 17:24:00           18.400          0.000          1.000   \n",
              "2006-12-16 17:25:00           23.000          0.000          1.000   \n",
              "2006-12-16 17:26:00           23.000          0.000          2.000   \n",
              "2006-12-16 17:27:00           23.000          0.000          1.000   \n",
              "2006-12-16 17:28:00           15.800          0.000          1.000   \n",
              "\n",
              "                     Sub_metering_3  \n",
              "datetime                             \n",
              "2006-12-16 17:24:00            17.0  \n",
              "2006-12-16 17:25:00            16.0  \n",
              "2006-12-16 17:26:00            17.0  \n",
              "2006-12-16 17:27:00            17.0  \n",
              "2006-12-16 17:28:00            17.0  "
            ],
            "text/html": [
              "\n",
              "  <div id=\"df-1334f2d8-70c0-4eb1-a6ad-fdfea52812ff\">\n",
              "    <div class=\"colab-df-container\">\n",
              "      <div>\n",
              "<style scoped>\n",
              "    .dataframe tbody tr th:only-of-type {\n",
              "        vertical-align: middle;\n",
              "    }\n",
              "\n",
              "    .dataframe tbody tr th {\n",
              "        vertical-align: top;\n",
              "    }\n",
              "\n",
              "    .dataframe thead th {\n",
              "        text-align: right;\n",
              "    }\n",
              "</style>\n",
              "<table border=\"1\" class=\"dataframe\">\n",
              "  <thead>\n",
              "    <tr style=\"text-align: right;\">\n",
              "      <th></th>\n",
              "      <th>Global_active_power</th>\n",
              "      <th>Global_reactive_power</th>\n",
              "      <th>Voltage</th>\n",
              "      <th>Global_intensity</th>\n",
              "      <th>Sub_metering_1</th>\n",
              "      <th>Sub_metering_2</th>\n",
              "      <th>Sub_metering_3</th>\n",
              "    </tr>\n",
              "    <tr>\n",
              "      <th>datetime</th>\n",
              "      <th></th>\n",
              "      <th></th>\n",
              "      <th></th>\n",
              "      <th></th>\n",
              "      <th></th>\n",
              "      <th></th>\n",
              "      <th></th>\n",
              "    </tr>\n",
              "  </thead>\n",
              "  <tbody>\n",
              "    <tr>\n",
              "      <th>2006-12-16 17:24:00</th>\n",
              "      <td>4.216</td>\n",
              "      <td>0.418</td>\n",
              "      <td>234.840</td>\n",
              "      <td>18.400</td>\n",
              "      <td>0.000</td>\n",
              "      <td>1.000</td>\n",
              "      <td>17.0</td>\n",
              "    </tr>\n",
              "    <tr>\n",
              "      <th>2006-12-16 17:25:00</th>\n",
              "      <td>5.360</td>\n",
              "      <td>0.436</td>\n",
              "      <td>233.630</td>\n",
              "      <td>23.000</td>\n",
              "      <td>0.000</td>\n",
              "      <td>1.000</td>\n",
              "      <td>16.0</td>\n",
              "    </tr>\n",
              "    <tr>\n",
              "      <th>2006-12-16 17:26:00</th>\n",
              "      <td>5.374</td>\n",
              "      <td>0.498</td>\n",
              "      <td>233.290</td>\n",
              "      <td>23.000</td>\n",
              "      <td>0.000</td>\n",
              "      <td>2.000</td>\n",
              "      <td>17.0</td>\n",
              "    </tr>\n",
              "    <tr>\n",
              "      <th>2006-12-16 17:27:00</th>\n",
              "      <td>5.388</td>\n",
              "      <td>0.502</td>\n",
              "      <td>233.740</td>\n",
              "      <td>23.000</td>\n",
              "      <td>0.000</td>\n",
              "      <td>1.000</td>\n",
              "      <td>17.0</td>\n",
              "    </tr>\n",
              "    <tr>\n",
              "      <th>2006-12-16 17:28:00</th>\n",
              "      <td>3.666</td>\n",
              "      <td>0.528</td>\n",
              "      <td>235.680</td>\n",
              "      <td>15.800</td>\n",
              "      <td>0.000</td>\n",
              "      <td>1.000</td>\n",
              "      <td>17.0</td>\n",
              "    </tr>\n",
              "  </tbody>\n",
              "</table>\n",
              "</div>\n",
              "      <button class=\"colab-df-convert\" onclick=\"convertToInteractive('df-1334f2d8-70c0-4eb1-a6ad-fdfea52812ff')\"\n",
              "              title=\"Convert this dataframe to an interactive table.\"\n",
              "              style=\"display:none;\">\n",
              "        \n",
              "  <svg xmlns=\"http://www.w3.org/2000/svg\" height=\"24px\"viewBox=\"0 0 24 24\"\n",
              "       width=\"24px\">\n",
              "    <path d=\"M0 0h24v24H0V0z\" fill=\"none\"/>\n",
              "    <path d=\"M18.56 5.44l.94 2.06.94-2.06 2.06-.94-2.06-.94-.94-2.06-.94 2.06-2.06.94zm-11 1L8.5 8.5l.94-2.06 2.06-.94-2.06-.94L8.5 2.5l-.94 2.06-2.06.94zm10 10l.94 2.06.94-2.06 2.06-.94-2.06-.94-.94-2.06-.94 2.06-2.06.94z\"/><path d=\"M17.41 7.96l-1.37-1.37c-.4-.4-.92-.59-1.43-.59-.52 0-1.04.2-1.43.59L10.3 9.45l-7.72 7.72c-.78.78-.78 2.05 0 2.83L4 21.41c.39.39.9.59 1.41.59.51 0 1.02-.2 1.41-.59l7.78-7.78 2.81-2.81c.8-.78.8-2.07 0-2.86zM5.41 20L4 18.59l7.72-7.72 1.47 1.35L5.41 20z\"/>\n",
              "  </svg>\n",
              "      </button>\n",
              "      \n",
              "  <style>\n",
              "    .colab-df-container {\n",
              "      display:flex;\n",
              "      flex-wrap:wrap;\n",
              "      gap: 12px;\n",
              "    }\n",
              "\n",
              "    .colab-df-convert {\n",
              "      background-color: #E8F0FE;\n",
              "      border: none;\n",
              "      border-radius: 50%;\n",
              "      cursor: pointer;\n",
              "      display: none;\n",
              "      fill: #1967D2;\n",
              "      height: 32px;\n",
              "      padding: 0 0 0 0;\n",
              "      width: 32px;\n",
              "    }\n",
              "\n",
              "    .colab-df-convert:hover {\n",
              "      background-color: #E2EBFA;\n",
              "      box-shadow: 0px 1px 2px rgba(60, 64, 67, 0.3), 0px 1px 3px 1px rgba(60, 64, 67, 0.15);\n",
              "      fill: #174EA6;\n",
              "    }\n",
              "\n",
              "    [theme=dark] .colab-df-convert {\n",
              "      background-color: #3B4455;\n",
              "      fill: #D2E3FC;\n",
              "    }\n",
              "\n",
              "    [theme=dark] .colab-df-convert:hover {\n",
              "      background-color: #434B5C;\n",
              "      box-shadow: 0px 1px 3px 1px rgba(0, 0, 0, 0.15);\n",
              "      filter: drop-shadow(0px 1px 2px rgba(0, 0, 0, 0.3));\n",
              "      fill: #FFFFFF;\n",
              "    }\n",
              "  </style>\n",
              "\n",
              "      <script>\n",
              "        const buttonEl =\n",
              "          document.querySelector('#df-1334f2d8-70c0-4eb1-a6ad-fdfea52812ff button.colab-df-convert');\n",
              "        buttonEl.style.display =\n",
              "          google.colab.kernel.accessAllowed ? 'block' : 'none';\n",
              "\n",
              "        async function convertToInteractive(key) {\n",
              "          const element = document.querySelector('#df-1334f2d8-70c0-4eb1-a6ad-fdfea52812ff');\n",
              "          const dataTable =\n",
              "            await google.colab.kernel.invokeFunction('convertToInteractive',\n",
              "                                                     [key], {});\n",
              "          if (!dataTable) return;\n",
              "\n",
              "          const docLinkHtml = 'Like what you see? Visit the ' +\n",
              "            '<a target=\"_blank\" href=https://colab.research.google.com/notebooks/data_table.ipynb>data table notebook</a>'\n",
              "            + ' to learn more about interactive tables.';\n",
              "          element.innerHTML = '';\n",
              "          dataTable['output_type'] = 'display_data';\n",
              "          await google.colab.output.renderOutput(dataTable, element);\n",
              "          const docLink = document.createElement('div');\n",
              "          docLink.innerHTML = docLinkHtml;\n",
              "          element.appendChild(docLink);\n",
              "        }\n",
              "      </script>\n",
              "    </div>\n",
              "  </div>\n",
              "  "
            ]
          },
          "metadata": {},
          "execution_count": 4
        }
      ],
      "source": [
        "df=pd.read_csv(r'household_power_consumption.txt', sep=';', header=0, low_memory=False, infer_datetime_format=True, parse_dates={'datetime':[0,1]}, index_col=['datetime'])\n",
        "df.head()"
      ]
    },
    {
      "cell_type": "markdown",
      "metadata": {
        "id": "SvyCW64ikKLR"
      },
      "source": [
        "**Imputing Null values**"
      ]
    },
    {
      "cell_type": "code",
      "execution_count": null,
      "metadata": {
        "colab": {
          "base_uri": "https://localhost:8080/"
        },
        "id": "ta7NOb8Ys5lq",
        "outputId": "d2afb8ca-760d-45e4-bee7-42bae163bb3a"
      },
      "outputs": [
        {
          "output_type": "execute_result",
          "data": {
            "text/plain": [
              "Global_active_power      25979\n",
              "Global_reactive_power    25979\n",
              "Voltage                  25979\n",
              "Global_intensity         25979\n",
              "Sub_metering_1           25979\n",
              "Sub_metering_2           25979\n",
              "Sub_metering_3           25979\n",
              "dtype: int64"
            ]
          },
          "metadata": {},
          "execution_count": 5
        }
      ],
      "source": [
        "# View the missing value\n",
        "df = df.replace('?', np.nan)\n",
        "df.isnull().sum()"
      ]
    },
    {
      "cell_type": "code",
      "execution_count": null,
      "metadata": {
        "id": "thVNmee83im9"
      },
      "outputs": [],
      "source": [
        "def fill_missing(values):\n",
        "    \"\"\"\n",
        "    values: the values from df\n",
        "    \"\"\"\n",
        "    one_day = 60*24\n",
        "    for row in range(df.shape[0]):\n",
        "        for col in range(df.shape[1]):\n",
        "            if np.isnan(values[row][col]):\n",
        "                values[row,col] = values[row-one_day,col]"
      ]
    },
    {
      "cell_type": "code",
      "execution_count": null,
      "metadata": {
        "colab": {
          "base_uri": "https://localhost:8080/"
        },
        "id": "x1J9rwW38ltN",
        "outputId": "2dc4af8d-cffe-4634-9b50-62e64a9921fb"
      },
      "outputs": [
        {
          "output_type": "execute_result",
          "data": {
            "text/plain": [
              "Global_active_power      0\n",
              "Global_reactive_power    0\n",
              "Voltage                  0\n",
              "Global_intensity         0\n",
              "Sub_metering_1           0\n",
              "Sub_metering_2           0\n",
              "Sub_metering_3           0\n",
              "dtype: int64"
            ]
          },
          "metadata": {},
          "execution_count": 7
        }
      ],
      "source": [
        "df = df.astype('float32')\n",
        "# TODO: \n",
        "# impute the null values using fill_missing function\n",
        "# and then check the missing value again by df.isnull().sum()\n",
        "fill_missing(df.values)\n",
        "df.isnull().sum()"
      ]
    },
    {
      "cell_type": "markdown",
      "metadata": {
        "id": "BuM8UGy5lJu2"
      },
      "source": [
        "**Downsampling of Data from minutes to Days**"
      ]
    },
    {
      "cell_type": "code",
      "execution_count": null,
      "metadata": {
        "id": "lQ7OyJYY31fz"
      },
      "outputs": [],
      "source": [
        "daily_df = df.resample('D').sum()"
      ]
    },
    {
      "cell_type": "code",
      "execution_count": null,
      "metadata": {
        "colab": {
          "base_uri": "https://localhost:8080/",
          "height": 708
        },
        "id": "htPIRoIqfjcm",
        "outputId": "499f37bb-0aef-4b58-f20f-77efce105a59"
      },
      "outputs": [
        {
          "output_type": "execute_result",
          "data": {
            "text/plain": [
              "            Global_active_power  Global_reactive_power       Voltage  \\\n",
              "datetime                                                               \n",
              "2006-12-16          1209.176025              34.922001   93552.53125   \n",
              "2006-12-17          3390.459961             226.005997  345725.31250   \n",
              "2006-12-18          2203.825928             161.792007  347373.62500   \n",
              "2006-12-19          1666.193970             150.942001  348479.00000   \n",
              "2006-12-20          2225.748047             160.998001  348923.62500   \n",
              "2006-12-21          1723.287964             144.434006  347096.40625   \n",
              "2006-12-22          2341.337891             186.906006  347305.75000   \n",
              "2006-12-23          4773.386230             221.470001  345795.93750   \n",
              "2006-12-24          2550.011963             149.899994  348029.90625   \n",
              "2006-12-25          2743.120117             240.279999  350495.90625   \n",
              "2006-12-26          3934.110107             165.102005  347940.62500   \n",
              "2006-12-27          1528.760010             178.902008  351025.00000   \n",
              "2006-12-28          2072.637939             208.876007  350306.40625   \n",
              "2006-12-29          3174.392090             196.393997  346854.68750   \n",
              "2006-12-30          2796.107910             312.141998  346377.15625   \n",
              "2006-12-31          3494.196045             150.852005  345451.06250   \n",
              "2007-01-01          2749.003906             148.166000  345785.71875   \n",
              "2007-01-02          1269.235962             190.341995  348399.03125   \n",
              "2007-01-03          1014.054016             196.727997  350722.21875   \n",
              "2007-01-04          3259.412109             202.302002  345240.43750   \n",
              "\n",
              "            Global_intensity  Sub_metering_1  Sub_metering_2  Sub_metering_3  \n",
              "datetime                                                                      \n",
              "2006-12-16       5180.799805             0.0           546.0          4926.0  \n",
              "2006-12-17      14398.599609          2033.0          4187.0         13341.0  \n",
              "2006-12-18       9247.200195          1063.0          2621.0         14018.0  \n",
              "2006-12-19       7094.000000           839.0          7602.0          6197.0  \n",
              "2006-12-20       9313.000000             0.0          2648.0         14063.0  \n",
              "2006-12-21       7266.399902          1765.0          2692.0         10456.0  \n",
              "2006-12-22       9897.000000          3151.0           350.0         11131.0  \n",
              "2006-12-23      20200.400391          2669.0           425.0         14726.0  \n",
              "2006-12-24      11002.200195          1703.0          5082.0          6891.0  \n",
              "2006-12-25      11450.200195          6620.0          1962.0          5795.0  \n",
              "2006-12-26      16341.000000          1086.0          2533.0         14979.0  \n",
              "2006-12-27       6505.200195             0.0           314.0          6976.0  \n",
              "2006-12-28       8764.200195          2207.0          4419.0          9176.0  \n",
              "2006-12-29      13350.799805          1252.0          5162.0         11329.0  \n",
              "2006-12-30      11952.599609          3072.0          7893.0         12516.0  \n",
              "2006-12-31      14687.400391             0.0           347.0          6502.0  \n",
              "2007-01-01      11400.400391             0.0           352.0          5880.0  \n",
              "2007-01-02       5348.200195             0.0           348.0          6562.0  \n",
              "2007-01-03       4340.200195             0.0           344.0          4765.0  \n",
              "2007-01-04      13648.599609          1051.0          7597.0         10896.0  "
            ],
            "text/html": [
              "\n",
              "  <div id=\"df-e0890594-90e1-499e-8b5b-9a7f07f4f629\">\n",
              "    <div class=\"colab-df-container\">\n",
              "      <div>\n",
              "<style scoped>\n",
              "    .dataframe tbody tr th:only-of-type {\n",
              "        vertical-align: middle;\n",
              "    }\n",
              "\n",
              "    .dataframe tbody tr th {\n",
              "        vertical-align: top;\n",
              "    }\n",
              "\n",
              "    .dataframe thead th {\n",
              "        text-align: right;\n",
              "    }\n",
              "</style>\n",
              "<table border=\"1\" class=\"dataframe\">\n",
              "  <thead>\n",
              "    <tr style=\"text-align: right;\">\n",
              "      <th></th>\n",
              "      <th>Global_active_power</th>\n",
              "      <th>Global_reactive_power</th>\n",
              "      <th>Voltage</th>\n",
              "      <th>Global_intensity</th>\n",
              "      <th>Sub_metering_1</th>\n",
              "      <th>Sub_metering_2</th>\n",
              "      <th>Sub_metering_3</th>\n",
              "    </tr>\n",
              "    <tr>\n",
              "      <th>datetime</th>\n",
              "      <th></th>\n",
              "      <th></th>\n",
              "      <th></th>\n",
              "      <th></th>\n",
              "      <th></th>\n",
              "      <th></th>\n",
              "      <th></th>\n",
              "    </tr>\n",
              "  </thead>\n",
              "  <tbody>\n",
              "    <tr>\n",
              "      <th>2006-12-16</th>\n",
              "      <td>1209.176025</td>\n",
              "      <td>34.922001</td>\n",
              "      <td>93552.53125</td>\n",
              "      <td>5180.799805</td>\n",
              "      <td>0.0</td>\n",
              "      <td>546.0</td>\n",
              "      <td>4926.0</td>\n",
              "    </tr>\n",
              "    <tr>\n",
              "      <th>2006-12-17</th>\n",
              "      <td>3390.459961</td>\n",
              "      <td>226.005997</td>\n",
              "      <td>345725.31250</td>\n",
              "      <td>14398.599609</td>\n",
              "      <td>2033.0</td>\n",
              "      <td>4187.0</td>\n",
              "      <td>13341.0</td>\n",
              "    </tr>\n",
              "    <tr>\n",
              "      <th>2006-12-18</th>\n",
              "      <td>2203.825928</td>\n",
              "      <td>161.792007</td>\n",
              "      <td>347373.62500</td>\n",
              "      <td>9247.200195</td>\n",
              "      <td>1063.0</td>\n",
              "      <td>2621.0</td>\n",
              "      <td>14018.0</td>\n",
              "    </tr>\n",
              "    <tr>\n",
              "      <th>2006-12-19</th>\n",
              "      <td>1666.193970</td>\n",
              "      <td>150.942001</td>\n",
              "      <td>348479.00000</td>\n",
              "      <td>7094.000000</td>\n",
              "      <td>839.0</td>\n",
              "      <td>7602.0</td>\n",
              "      <td>6197.0</td>\n",
              "    </tr>\n",
              "    <tr>\n",
              "      <th>2006-12-20</th>\n",
              "      <td>2225.748047</td>\n",
              "      <td>160.998001</td>\n",
              "      <td>348923.62500</td>\n",
              "      <td>9313.000000</td>\n",
              "      <td>0.0</td>\n",
              "      <td>2648.0</td>\n",
              "      <td>14063.0</td>\n",
              "    </tr>\n",
              "    <tr>\n",
              "      <th>2006-12-21</th>\n",
              "      <td>1723.287964</td>\n",
              "      <td>144.434006</td>\n",
              "      <td>347096.40625</td>\n",
              "      <td>7266.399902</td>\n",
              "      <td>1765.0</td>\n",
              "      <td>2692.0</td>\n",
              "      <td>10456.0</td>\n",
              "    </tr>\n",
              "    <tr>\n",
              "      <th>2006-12-22</th>\n",
              "      <td>2341.337891</td>\n",
              "      <td>186.906006</td>\n",
              "      <td>347305.75000</td>\n",
              "      <td>9897.000000</td>\n",
              "      <td>3151.0</td>\n",
              "      <td>350.0</td>\n",
              "      <td>11131.0</td>\n",
              "    </tr>\n",
              "    <tr>\n",
              "      <th>2006-12-23</th>\n",
              "      <td>4773.386230</td>\n",
              "      <td>221.470001</td>\n",
              "      <td>345795.93750</td>\n",
              "      <td>20200.400391</td>\n",
              "      <td>2669.0</td>\n",
              "      <td>425.0</td>\n",
              "      <td>14726.0</td>\n",
              "    </tr>\n",
              "    <tr>\n",
              "      <th>2006-12-24</th>\n",
              "      <td>2550.011963</td>\n",
              "      <td>149.899994</td>\n",
              "      <td>348029.90625</td>\n",
              "      <td>11002.200195</td>\n",
              "      <td>1703.0</td>\n",
              "      <td>5082.0</td>\n",
              "      <td>6891.0</td>\n",
              "    </tr>\n",
              "    <tr>\n",
              "      <th>2006-12-25</th>\n",
              "      <td>2743.120117</td>\n",
              "      <td>240.279999</td>\n",
              "      <td>350495.90625</td>\n",
              "      <td>11450.200195</td>\n",
              "      <td>6620.0</td>\n",
              "      <td>1962.0</td>\n",
              "      <td>5795.0</td>\n",
              "    </tr>\n",
              "    <tr>\n",
              "      <th>2006-12-26</th>\n",
              "      <td>3934.110107</td>\n",
              "      <td>165.102005</td>\n",
              "      <td>347940.62500</td>\n",
              "      <td>16341.000000</td>\n",
              "      <td>1086.0</td>\n",
              "      <td>2533.0</td>\n",
              "      <td>14979.0</td>\n",
              "    </tr>\n",
              "    <tr>\n",
              "      <th>2006-12-27</th>\n",
              "      <td>1528.760010</td>\n",
              "      <td>178.902008</td>\n",
              "      <td>351025.00000</td>\n",
              "      <td>6505.200195</td>\n",
              "      <td>0.0</td>\n",
              "      <td>314.0</td>\n",
              "      <td>6976.0</td>\n",
              "    </tr>\n",
              "    <tr>\n",
              "      <th>2006-12-28</th>\n",
              "      <td>2072.637939</td>\n",
              "      <td>208.876007</td>\n",
              "      <td>350306.40625</td>\n",
              "      <td>8764.200195</td>\n",
              "      <td>2207.0</td>\n",
              "      <td>4419.0</td>\n",
              "      <td>9176.0</td>\n",
              "    </tr>\n",
              "    <tr>\n",
              "      <th>2006-12-29</th>\n",
              "      <td>3174.392090</td>\n",
              "      <td>196.393997</td>\n",
              "      <td>346854.68750</td>\n",
              "      <td>13350.799805</td>\n",
              "      <td>1252.0</td>\n",
              "      <td>5162.0</td>\n",
              "      <td>11329.0</td>\n",
              "    </tr>\n",
              "    <tr>\n",
              "      <th>2006-12-30</th>\n",
              "      <td>2796.107910</td>\n",
              "      <td>312.141998</td>\n",
              "      <td>346377.15625</td>\n",
              "      <td>11952.599609</td>\n",
              "      <td>3072.0</td>\n",
              "      <td>7893.0</td>\n",
              "      <td>12516.0</td>\n",
              "    </tr>\n",
              "    <tr>\n",
              "      <th>2006-12-31</th>\n",
              "      <td>3494.196045</td>\n",
              "      <td>150.852005</td>\n",
              "      <td>345451.06250</td>\n",
              "      <td>14687.400391</td>\n",
              "      <td>0.0</td>\n",
              "      <td>347.0</td>\n",
              "      <td>6502.0</td>\n",
              "    </tr>\n",
              "    <tr>\n",
              "      <th>2007-01-01</th>\n",
              "      <td>2749.003906</td>\n",
              "      <td>148.166000</td>\n",
              "      <td>345785.71875</td>\n",
              "      <td>11400.400391</td>\n",
              "      <td>0.0</td>\n",
              "      <td>352.0</td>\n",
              "      <td>5880.0</td>\n",
              "    </tr>\n",
              "    <tr>\n",
              "      <th>2007-01-02</th>\n",
              "      <td>1269.235962</td>\n",
              "      <td>190.341995</td>\n",
              "      <td>348399.03125</td>\n",
              "      <td>5348.200195</td>\n",
              "      <td>0.0</td>\n",
              "      <td>348.0</td>\n",
              "      <td>6562.0</td>\n",
              "    </tr>\n",
              "    <tr>\n",
              "      <th>2007-01-03</th>\n",
              "      <td>1014.054016</td>\n",
              "      <td>196.727997</td>\n",
              "      <td>350722.21875</td>\n",
              "      <td>4340.200195</td>\n",
              "      <td>0.0</td>\n",
              "      <td>344.0</td>\n",
              "      <td>4765.0</td>\n",
              "    </tr>\n",
              "    <tr>\n",
              "      <th>2007-01-04</th>\n",
              "      <td>3259.412109</td>\n",
              "      <td>202.302002</td>\n",
              "      <td>345240.43750</td>\n",
              "      <td>13648.599609</td>\n",
              "      <td>1051.0</td>\n",
              "      <td>7597.0</td>\n",
              "      <td>10896.0</td>\n",
              "    </tr>\n",
              "  </tbody>\n",
              "</table>\n",
              "</div>\n",
              "      <button class=\"colab-df-convert\" onclick=\"convertToInteractive('df-e0890594-90e1-499e-8b5b-9a7f07f4f629')\"\n",
              "              title=\"Convert this dataframe to an interactive table.\"\n",
              "              style=\"display:none;\">\n",
              "        \n",
              "  <svg xmlns=\"http://www.w3.org/2000/svg\" height=\"24px\"viewBox=\"0 0 24 24\"\n",
              "       width=\"24px\">\n",
              "    <path d=\"M0 0h24v24H0V0z\" fill=\"none\"/>\n",
              "    <path d=\"M18.56 5.44l.94 2.06.94-2.06 2.06-.94-2.06-.94-.94-2.06-.94 2.06-2.06.94zm-11 1L8.5 8.5l.94-2.06 2.06-.94-2.06-.94L8.5 2.5l-.94 2.06-2.06.94zm10 10l.94 2.06.94-2.06 2.06-.94-2.06-.94-.94-2.06-.94 2.06-2.06.94z\"/><path d=\"M17.41 7.96l-1.37-1.37c-.4-.4-.92-.59-1.43-.59-.52 0-1.04.2-1.43.59L10.3 9.45l-7.72 7.72c-.78.78-.78 2.05 0 2.83L4 21.41c.39.39.9.59 1.41.59.51 0 1.02-.2 1.41-.59l7.78-7.78 2.81-2.81c.8-.78.8-2.07 0-2.86zM5.41 20L4 18.59l7.72-7.72 1.47 1.35L5.41 20z\"/>\n",
              "  </svg>\n",
              "      </button>\n",
              "      \n",
              "  <style>\n",
              "    .colab-df-container {\n",
              "      display:flex;\n",
              "      flex-wrap:wrap;\n",
              "      gap: 12px;\n",
              "    }\n",
              "\n",
              "    .colab-df-convert {\n",
              "      background-color: #E8F0FE;\n",
              "      border: none;\n",
              "      border-radius: 50%;\n",
              "      cursor: pointer;\n",
              "      display: none;\n",
              "      fill: #1967D2;\n",
              "      height: 32px;\n",
              "      padding: 0 0 0 0;\n",
              "      width: 32px;\n",
              "    }\n",
              "\n",
              "    .colab-df-convert:hover {\n",
              "      background-color: #E2EBFA;\n",
              "      box-shadow: 0px 1px 2px rgba(60, 64, 67, 0.3), 0px 1px 3px 1px rgba(60, 64, 67, 0.15);\n",
              "      fill: #174EA6;\n",
              "    }\n",
              "\n",
              "    [theme=dark] .colab-df-convert {\n",
              "      background-color: #3B4455;\n",
              "      fill: #D2E3FC;\n",
              "    }\n",
              "\n",
              "    [theme=dark] .colab-df-convert:hover {\n",
              "      background-color: #434B5C;\n",
              "      box-shadow: 0px 1px 3px 1px rgba(0, 0, 0, 0.15);\n",
              "      filter: drop-shadow(0px 1px 2px rgba(0, 0, 0, 0.3));\n",
              "      fill: #FFFFFF;\n",
              "    }\n",
              "  </style>\n",
              "\n",
              "      <script>\n",
              "        const buttonEl =\n",
              "          document.querySelector('#df-e0890594-90e1-499e-8b5b-9a7f07f4f629 button.colab-df-convert');\n",
              "        buttonEl.style.display =\n",
              "          google.colab.kernel.accessAllowed ? 'block' : 'none';\n",
              "\n",
              "        async function convertToInteractive(key) {\n",
              "          const element = document.querySelector('#df-e0890594-90e1-499e-8b5b-9a7f07f4f629');\n",
              "          const dataTable =\n",
              "            await google.colab.kernel.invokeFunction('convertToInteractive',\n",
              "                                                     [key], {});\n",
              "          if (!dataTable) return;\n",
              "\n",
              "          const docLinkHtml = 'Like what you see? Visit the ' +\n",
              "            '<a target=\"_blank\" href=https://colab.research.google.com/notebooks/data_table.ipynb>data table notebook</a>'\n",
              "            + ' to learn more about interactive tables.';\n",
              "          element.innerHTML = '';\n",
              "          dataTable['output_type'] = 'display_data';\n",
              "          await google.colab.output.renderOutput(dataTable, element);\n",
              "          const docLink = document.createElement('div');\n",
              "          docLink.innerHTML = docLinkHtml;\n",
              "          element.appendChild(docLink);\n",
              "        }\n",
              "      </script>\n",
              "    </div>\n",
              "  </div>\n",
              "  "
            ]
          },
          "metadata": {},
          "execution_count": 9
        }
      ],
      "source": [
        "daily_df.head(20)"
      ]
    },
    {
      "cell_type": "code",
      "execution_count": null,
      "metadata": {
        "colab": {
          "base_uri": "https://localhost:8080/"
        },
        "id": "TVpTkdJm5Myh",
        "outputId": "e5f2dfad-972b-47af-e3b5-80a85c13b5a0"
      },
      "outputs": [
        {
          "output_type": "execute_result",
          "data": {
            "text/plain": [
              "((1442, 7), (2075259, 7))"
            ]
          },
          "metadata": {},
          "execution_count": 10
        }
      ],
      "source": [
        "daily_df.shape, df.shape"
      ]
    },
    {
      "cell_type": "markdown",
      "metadata": {
        "id": "2KGQDB93mjqy"
      },
      "source": [
        "**Train - Test Split**"
      ]
    },
    {
      "cell_type": "code",
      "execution_count": null,
      "metadata": {
        "id": "2iHDBSbu8tVu"
      },
      "outputs": [],
      "source": [
        "# TODO: split the data daily_df into train_df and test_df with the ratio of 75% and 25%, resptively.\n",
        "# Notice the ignore the first row because of the header of the data.\n",
        "train_df=daily_df.iloc[1:1081,]     # 75% and 25%\n",
        "test_df=daily_df.iloc[1081:1441,]\n"
      ]
    },
    {
      "cell_type": "code",
      "execution_count": null,
      "metadata": {
        "colab": {
          "base_uri": "https://localhost:8080/"
        },
        "id": "pdKrZDz9_iWr",
        "outputId": "5c64a8a0-af0c-47d9-eb90-549c7cd94fe1"
      },
      "outputs": [
        {
          "output_type": "execute_result",
          "data": {
            "text/plain": [
              "((1080, 7), (360, 7))"
            ]
          },
          "metadata": {},
          "execution_count": 12
        }
      ],
      "source": [
        "train_df.shape, test_df.shape"
      ]
    },
    {
      "cell_type": "markdown",
      "metadata": {
        "id": "lk2FYkUcmtDc"
      },
      "source": [
        "Scaling the values for faster training of the models."
      ]
    },
    {
      "cell_type": "code",
      "execution_count": null,
      "metadata": {
        "colab": {
          "base_uri": "https://localhost:8080/"
        },
        "id": "cIVnPiBaB9pG",
        "outputId": "1e417629-666c-425b-830e-2cf2ad655a15"
      },
      "outputs": [
        {
          "output_type": "stream",
          "name": "stderr",
          "text": [
            "/usr/local/lib/python3.7/dist-packages/ipykernel_launcher.py:9: SettingWithCopyWarning: \n",
            "A value is trying to be set on a copy of a slice from a DataFrame.\n",
            "Try using .loc[row_indexer,col_indexer] = value instead\n",
            "\n",
            "See the caveats in the documentation: https://pandas.pydata.org/pandas-docs/stable/user_guide/indexing.html#returning-a-view-versus-a-copy\n",
            "  if __name__ == '__main__':\n",
            "/usr/local/lib/python3.7/dist-packages/ipykernel_launcher.py:9: SettingWithCopyWarning: \n",
            "A value is trying to be set on a copy of a slice from a DataFrame.\n",
            "Try using .loc[row_indexer,col_indexer] = value instead\n",
            "\n",
            "See the caveats in the documentation: https://pandas.pydata.org/pandas-docs/stable/user_guide/indexing.html#returning-a-view-versus-a-copy\n",
            "  if __name__ == '__main__':\n",
            "/usr/local/lib/python3.7/dist-packages/ipykernel_launcher.py:9: SettingWithCopyWarning: \n",
            "A value is trying to be set on a copy of a slice from a DataFrame.\n",
            "Try using .loc[row_indexer,col_indexer] = value instead\n",
            "\n",
            "See the caveats in the documentation: https://pandas.pydata.org/pandas-docs/stable/user_guide/indexing.html#returning-a-view-versus-a-copy\n",
            "  if __name__ == '__main__':\n",
            "/usr/local/lib/python3.7/dist-packages/ipykernel_launcher.py:9: SettingWithCopyWarning: \n",
            "A value is trying to be set on a copy of a slice from a DataFrame.\n",
            "Try using .loc[row_indexer,col_indexer] = value instead\n",
            "\n",
            "See the caveats in the documentation: https://pandas.pydata.org/pandas-docs/stable/user_guide/indexing.html#returning-a-view-versus-a-copy\n",
            "  if __name__ == '__main__':\n",
            "/usr/local/lib/python3.7/dist-packages/ipykernel_launcher.py:9: SettingWithCopyWarning: \n",
            "A value is trying to be set on a copy of a slice from a DataFrame.\n",
            "Try using .loc[row_indexer,col_indexer] = value instead\n",
            "\n",
            "See the caveats in the documentation: https://pandas.pydata.org/pandas-docs/stable/user_guide/indexing.html#returning-a-view-versus-a-copy\n",
            "  if __name__ == '__main__':\n",
            "/usr/local/lib/python3.7/dist-packages/ipykernel_launcher.py:9: SettingWithCopyWarning: \n",
            "A value is trying to be set on a copy of a slice from a DataFrame.\n",
            "Try using .loc[row_indexer,col_indexer] = value instead\n",
            "\n",
            "See the caveats in the documentation: https://pandas.pydata.org/pandas-docs/stable/user_guide/indexing.html#returning-a-view-versus-a-copy\n",
            "  if __name__ == '__main__':\n",
            "/usr/local/lib/python3.7/dist-packages/ipykernel_launcher.py:9: SettingWithCopyWarning: \n",
            "A value is trying to be set on a copy of a slice from a DataFrame.\n",
            "Try using .loc[row_indexer,col_indexer] = value instead\n",
            "\n",
            "See the caveats in the documentation: https://pandas.pydata.org/pandas-docs/stable/user_guide/indexing.html#returning-a-view-versus-a-copy\n",
            "  if __name__ == '__main__':\n",
            "/usr/local/lib/python3.7/dist-packages/ipykernel_launcher.py:17: SettingWithCopyWarning: \n",
            "A value is trying to be set on a copy of a slice from a DataFrame.\n",
            "Try using .loc[row_indexer,col_indexer] = value instead\n",
            "\n",
            "See the caveats in the documentation: https://pandas.pydata.org/pandas-docs/stable/user_guide/indexing.html#returning-a-view-versus-a-copy\n",
            "/usr/local/lib/python3.7/dist-packages/ipykernel_launcher.py:17: SettingWithCopyWarning: \n",
            "A value is trying to be set on a copy of a slice from a DataFrame.\n",
            "Try using .loc[row_indexer,col_indexer] = value instead\n",
            "\n",
            "See the caveats in the documentation: https://pandas.pydata.org/pandas-docs/stable/user_guide/indexing.html#returning-a-view-versus-a-copy\n",
            "/usr/local/lib/python3.7/dist-packages/ipykernel_launcher.py:17: SettingWithCopyWarning: \n",
            "A value is trying to be set on a copy of a slice from a DataFrame.\n",
            "Try using .loc[row_indexer,col_indexer] = value instead\n",
            "\n",
            "See the caveats in the documentation: https://pandas.pydata.org/pandas-docs/stable/user_guide/indexing.html#returning-a-view-versus-a-copy\n",
            "/usr/local/lib/python3.7/dist-packages/ipykernel_launcher.py:17: SettingWithCopyWarning: \n",
            "A value is trying to be set on a copy of a slice from a DataFrame.\n",
            "Try using .loc[row_indexer,col_indexer] = value instead\n",
            "\n",
            "See the caveats in the documentation: https://pandas.pydata.org/pandas-docs/stable/user_guide/indexing.html#returning-a-view-versus-a-copy\n",
            "/usr/local/lib/python3.7/dist-packages/ipykernel_launcher.py:17: SettingWithCopyWarning: \n",
            "A value is trying to be set on a copy of a slice from a DataFrame.\n",
            "Try using .loc[row_indexer,col_indexer] = value instead\n",
            "\n",
            "See the caveats in the documentation: https://pandas.pydata.org/pandas-docs/stable/user_guide/indexing.html#returning-a-view-versus-a-copy\n",
            "/usr/local/lib/python3.7/dist-packages/ipykernel_launcher.py:17: SettingWithCopyWarning: \n",
            "A value is trying to be set on a copy of a slice from a DataFrame.\n",
            "Try using .loc[row_indexer,col_indexer] = value instead\n",
            "\n",
            "See the caveats in the documentation: https://pandas.pydata.org/pandas-docs/stable/user_guide/indexing.html#returning-a-view-versus-a-copy\n",
            "/usr/local/lib/python3.7/dist-packages/ipykernel_launcher.py:17: SettingWithCopyWarning: \n",
            "A value is trying to be set on a copy of a slice from a DataFrame.\n",
            "Try using .loc[row_indexer,col_indexer] = value instead\n",
            "\n",
            "See the caveats in the documentation: https://pandas.pydata.org/pandas-docs/stable/user_guide/indexing.html#returning-a-view-versus-a-copy\n"
          ]
        }
      ],
      "source": [
        "train = train_df\n",
        "scalers={}\n",
        "\n",
        "for i in train_df.columns:\n",
        "    scaler = MinMaxScaler(feature_range=(-1,1))\n",
        "    s_s = scaler.fit_transform(train[i].values.reshape(-1,1))\n",
        "    s_s=np.reshape(s_s,len(s_s))\n",
        "    scalers['scaler_'+ i] = scaler\n",
        "    train[i]=s_s\n",
        "\n",
        "test = test_df\n",
        "for i in train_df.columns:\n",
        "    scaler = scalers['scaler_' + i]\n",
        "    s_s = scaler.transform(test[i].values.reshape(-1,1))\n",
        "    s_s=np.reshape(s_s,len(s_s))\n",
        "    scalers['scaler_'+i] = scaler\n",
        "    test[i]=s_s"
      ]
    },
    {
      "cell_type": "code",
      "execution_count": null,
      "metadata": {
        "colab": {
          "base_uri": "https://localhost:8080/"
        },
        "id": "YNtWBi1-MJnp",
        "outputId": "cfad62d4-e19d-4112-cafe-3772056b8f51"
      },
      "outputs": [
        {
          "output_type": "stream",
          "name": "stdout",
          "text": [
            "min value: -1.0 max value: 1.0000002\n"
          ]
        }
      ],
      "source": [
        "# verify the data range\n",
        "print('min value:', np.min(train.values), 'max value:', np.max(train.values))"
      ]
    },
    {
      "cell_type": "markdown",
      "metadata": {
        "id": "qP5Ut36pAD_D"
      },
      "source": [
        " For this case, let's assume that given past 10 days observations, forecast the next 5 days observations. "
      ]
    },
    {
      "cell_type": "code",
      "execution_count": null,
      "metadata": {
        "colab": {
          "base_uri": "https://localhost:8080/"
        },
        "id": "95DRaJDAiAzj",
        "outputId": "7b233593-eff3-4785-88e3-c984f8696c65"
      },
      "outputs": [
        {
          "output_type": "stream",
          "name": "stdout",
          "text": [
            "<class 'pandas.core.frame.DataFrame'>\n"
          ]
        }
      ],
      "source": [
        "# For this case, let's assume that\n",
        "# Given past 10 days observations, forecast the next 5 days observations. \n",
        "n_past = 10\n",
        "n_future = 5 \n",
        "n_features = 7\n",
        "print(type(train))"
      ]
    },
    {
      "cell_type": "markdown",
      "metadata": {
        "id": "OqWTUZGHm1tm"
      },
      "source": [
        "**Converting the series to samples for supervised learning**"
      ]
    },
    {
      "cell_type": "code",
      "execution_count": null,
      "metadata": {
        "id": "6axUcusZhvzK"
      },
      "outputs": [],
      "source": [
        "def split_series(series,n_past,n_future):\n",
        "  #\n",
        "  # n_past ==> no of past observations\n",
        "  #\n",
        "  # n_future ==> no of future observations \n",
        "  #\n",
        "  X, y = list(), list()\n",
        "  for window_start in range(len(series)):\n",
        "    past_end = window_start + n_past\n",
        "    future_end = past_end + n_future\n",
        "   \n",
        "    if future_end > len(series):\n",
        "      break\n",
        "    # slicing the past and future parts of the window\n",
        "    past = series.iloc[window_start:past_end,:] \n",
        "    future= series.iloc[past_end:future_end,:]\n",
        "    X.append(past)\n",
        "    y.append(future)\n",
        "  return np.array(X), np.array(y)"
      ]
    },
    {
      "cell_type": "code",
      "execution_count": null,
      "metadata": {
        "id": "BOHlFWgVidl_"
      },
      "outputs": [],
      "source": [
        "# TODO: split train and test into input and target samples\n",
        "X_train, y_train = split_series(train,n_past,n_future)\n",
        "\n",
        "X_test, y_test =split_series(test,n_past,n_future)\n"
      ]
    },
    {
      "cell_type": "code",
      "execution_count": null,
      "metadata": {
        "id": "gdZzjHi0Lpvc"
      },
      "outputs": [],
      "source": [
        "X_train = X_train.reshape((X_train.shape[0], X_train.shape[1],n_features))\n",
        "y_train = y_train.reshape((y_train.shape[0], y_train.shape[1], n_features))\n",
        "\n",
        "X_test = X_test.reshape((X_test.shape[0], X_test.shape[1],n_features))\n",
        "y_test = y_test.reshape((y_test.shape[0], y_test.shape[1], n_features))"
      ]
    },
    {
      "cell_type": "code",
      "execution_count": null,
      "metadata": {
        "colab": {
          "base_uri": "https://localhost:8080/"
        },
        "id": "Bzav_OzQh_Dx",
        "outputId": "2473ed89-ed3b-4f86-a588-76f6f6178243"
      },
      "outputs": [
        {
          "output_type": "execute_result",
          "data": {
            "text/plain": [
              "(346, 10, 7)"
            ]
          },
          "metadata": {},
          "execution_count": 19
        }
      ],
      "source": [
        "X_test.shape"
      ]
    },
    {
      "cell_type": "markdown",
      "metadata": {
        "id": "X2rRUBjbnJij"
      },
      "source": [
        "**Model Architecture**\n",
        "\n",
        "E1D1 ==> Sequence to Sequence Model with one encoder layer and one decoder layer. "
      ]
    },
    {
      "cell_type": "code",
      "execution_count": null,
      "metadata": {
        "colab": {
          "base_uri": "https://localhost:8080/"
        },
        "id": "sMYwUsJ8HAtu",
        "outputId": "c3690b9c-2a2e-4369-e003-fdf2816f79e5"
      },
      "outputs": [
        {
          "output_type": "stream",
          "name": "stdout",
          "text": [
            "Model: \"model\"\n",
            "__________________________________________________________________________________________________\n",
            " Layer (type)                   Output Shape         Param #     Connected to                     \n",
            "==================================================================================================\n",
            " input_1 (InputLayer)           [(None, 10, 7)]      0           []                               \n",
            "                                                                                                  \n",
            " lstm (LSTM)                    [(None, 100),        43200       ['input_1[0][0]']                \n",
            "                                 (None, 100),                                                     \n",
            "                                 (None, 100)]                                                     \n",
            "                                                                                                  \n",
            " repeat_vector (RepeatVector)   (None, 5, 100)       0           ['lstm[0][0]']                   \n",
            "                                                                                                  \n",
            " lstm_1 (LSTM)                  (None, 5, 100)       80400       ['repeat_vector[0][0]',          \n",
            "                                                                  'lstm[0][1]',                   \n",
            "                                                                  'lstm[0][2]']                   \n",
            "                                                                                                  \n",
            " time_distributed (TimeDistribu  (None, 5, 7)        707         ['lstm_1[0][0]']                 \n",
            " ted)                                                                                             \n",
            "                                                                                                  \n",
            "==================================================================================================\n",
            "Total params: 124,307\n",
            "Trainable params: 124,307\n",
            "Non-trainable params: 0\n",
            "__________________________________________________________________________________________________\n"
          ]
        }
      ],
      "source": [
        "# E1D1\n",
        "# n_features ==> no of features at each timestep in the data.\n",
        "# \n",
        "encoder_inputs = tf.keras.layers.Input(shape=(n_past, n_features))    # define the input layer with shape: (n_past, n_features)\n",
        "encoder_l1 = tf.keras.layers.LSTM(100, return_state=True)             # define the encoded LSTM layer with 100 LSTM units\n",
        "encoder_outputs1 = encoder_l1(encoder_inputs)                         # get the output of LSTM layer, including (encoder output, the encoder states)\n",
        "encoder_outputs_1 = encoder_outputs1[0]\n",
        "encoder_states_1 = encoder_outputs1[1:]\n",
        "#\n",
        "# because we predict 5 future observation, so the input should have 5 input\n",
        "# that why we use RepeatVector for repeating encoder output 5 times as the decoder inputs\n",
        "decoder_inputs = tf.keras.layers.RepeatVector(n_future)(encoder_outputs_1)\n",
        "#\n",
        "# define the decoded LSTM layer, input the decoder inputs to get prediction\n",
        "decoder_l1 = tf.keras.layers.LSTM(100, return_sequences=True)(decoder_inputs,initial_state = encoder_states_1)\n",
        "decoder_outputs1 = tf.keras.layers.TimeDistributed(tf.keras.layers.Dense(n_features))(decoder_l1)\n",
        "#\n",
        "# define the e1d1 model by combine encoder and decoder together\n",
        "model_e1d1 = tf.keras.models.Model(encoder_inputs,decoder_outputs1)\n",
        "#\n",
        "model_e1d1.summary()"
      ]
    },
    {
      "cell_type": "markdown",
      "metadata": {
        "id": "1Q0prbvcnq6W"
      },
      "source": [
        " **Training the model E1D1**\n"
      ]
    },
    {
      "cell_type": "code",
      "execution_count": null,
      "metadata": {
        "colab": {
          "base_uri": "https://localhost:8080/"
        },
        "id": "L4Ee4kb5HuzM",
        "outputId": "b4126dd7-6aa6-494d-f9f0-b82aa8b9a337"
      },
      "outputs": [
        {
          "output_type": "stream",
          "name": "stdout",
          "text": [
            "Epoch 1/25\n",
            "34/34 [==============================] - 5s 45ms/step - loss: 0.0532 - val_loss: 0.0330 - lr: 0.0010\n",
            "Epoch 2/25\n",
            "34/34 [==============================] - 1s 20ms/step - loss: 0.0358 - val_loss: 0.0314 - lr: 9.0000e-04\n",
            "Epoch 3/25\n",
            "34/34 [==============================] - 1s 22ms/step - loss: 0.0350 - val_loss: 0.0315 - lr: 8.1000e-04\n",
            "Epoch 4/25\n",
            "34/34 [==============================] - 1s 22ms/step - loss: 0.0345 - val_loss: 0.0306 - lr: 7.2900e-04\n",
            "Epoch 5/25\n",
            "34/34 [==============================] - 1s 18ms/step - loss: 0.0345 - val_loss: 0.0303 - lr: 6.5610e-04\n",
            "Epoch 6/25\n",
            "34/34 [==============================] - 1s 18ms/step - loss: 0.0342 - val_loss: 0.0304 - lr: 5.9049e-04\n",
            "Epoch 7/25\n",
            "34/34 [==============================] - 1s 17ms/step - loss: 0.0340 - val_loss: 0.0302 - lr: 5.3144e-04\n",
            "Epoch 8/25\n",
            "34/34 [==============================] - 1s 18ms/step - loss: 0.0337 - val_loss: 0.0304 - lr: 4.7830e-04\n",
            "Epoch 9/25\n",
            "34/34 [==============================] - 1s 18ms/step - loss: 0.0338 - val_loss: 0.0303 - lr: 4.3047e-04\n",
            "Epoch 10/25\n",
            "34/34 [==============================] - 1s 17ms/step - loss: 0.0337 - val_loss: 0.0305 - lr: 3.8742e-04\n",
            "Epoch 11/25\n",
            "34/34 [==============================] - 1s 18ms/step - loss: 0.0337 - val_loss: 0.0307 - lr: 3.4868e-04\n",
            "Epoch 12/25\n",
            "34/34 [==============================] - 1s 17ms/step - loss: 0.0335 - val_loss: 0.0302 - lr: 3.1381e-04\n",
            "Epoch 13/25\n",
            "34/34 [==============================] - 1s 18ms/step - loss: 0.0334 - val_loss: 0.0305 - lr: 2.8243e-04\n",
            "Epoch 14/25\n",
            "34/34 [==============================] - 1s 18ms/step - loss: 0.0334 - val_loss: 0.0301 - lr: 2.5419e-04\n",
            "Epoch 15/25\n",
            "34/34 [==============================] - 1s 21ms/step - loss: 0.0333 - val_loss: 0.0298 - lr: 2.2877e-04\n",
            "Epoch 16/25\n",
            "34/34 [==============================] - 1s 19ms/step - loss: 0.0332 - val_loss: 0.0300 - lr: 2.0589e-04\n",
            "Epoch 17/25\n",
            "34/34 [==============================] - 1s 17ms/step - loss: 0.0333 - val_loss: 0.0307 - lr: 1.8530e-04\n",
            "Epoch 18/25\n",
            "34/34 [==============================] - 1s 18ms/step - loss: 0.0331 - val_loss: 0.0300 - lr: 1.6677e-04\n",
            "Epoch 19/25\n",
            "34/34 [==============================] - 1s 17ms/step - loss: 0.0332 - val_loss: 0.0299 - lr: 1.5009e-04\n",
            "Epoch 20/25\n",
            "34/34 [==============================] - 1s 17ms/step - loss: 0.0331 - val_loss: 0.0298 - lr: 1.3509e-04\n",
            "Epoch 21/25\n",
            "34/34 [==============================] - 1s 18ms/step - loss: 0.0331 - val_loss: 0.0298 - lr: 1.2158e-04\n",
            "Epoch 22/25\n",
            "34/34 [==============================] - 1s 18ms/step - loss: 0.0331 - val_loss: 0.0297 - lr: 1.0942e-04\n",
            "Epoch 23/25\n",
            "34/34 [==============================] - 1s 20ms/step - loss: 0.0330 - val_loss: 0.0299 - lr: 9.8477e-05\n",
            "Epoch 24/25\n",
            "34/34 [==============================] - 1s 21ms/step - loss: 0.0330 - val_loss: 0.0297 - lr: 8.8629e-05\n",
            "Epoch 25/25\n",
            "34/34 [==============================] - 1s 17ms/step - loss: 0.0330 - val_loss: 0.0299 - lr: 7.9766e-05\n"
          ]
        }
      ],
      "source": [
        "reduce_lr = tf.keras.callbacks.LearningRateScheduler(lambda x: 1e-3 * 0.90 ** x)\n",
        "\n",
        "model_e1d1.compile(optimizer=tf.keras.optimizers.Adam(), loss=tf.keras.losses.Huber())\n",
        "history_e1d1=model_e1d1.fit(X_train,y_train,epochs=25,validation_data=(X_test,y_test),batch_size=32,verbose=1,callbacks=[reduce_lr])"
      ]
    },
    {
      "cell_type": "markdown",
      "metadata": {
        "id": "24dXdJetRwdO"
      },
      "source": [
        "Visualization"
      ]
    },
    {
      "cell_type": "code",
      "execution_count": null,
      "metadata": {
        "colab": {
          "base_uri": "https://localhost:8080/",
          "height": 295
        },
        "id": "K9OV_pVhlKsw",
        "outputId": "4910e9a9-5e7b-450f-8d94-d1c618f2c008"
      },
      "outputs": [
        {
          "output_type": "display_data",
          "data": {
            "text/plain": [
              "<Figure size 432x288 with 1 Axes>"
            ],
            "image/png": "[encoded data removed]"
          },
          "metadata": {
            "needs_background": "light"
          }
        }
      ],
      "source": [
        "plt.plot(history_e1d1.history['loss'])\n",
        "plt.plot(history_e1d1.history['val_loss'])\n",
        "plt.title(\"E1D1 Model Loss\")\n",
        "plt.xlabel('Epochs')\n",
        "plt.ylabel('Loss')\n",
        "plt.legend(['Train', 'Valid'])\n",
        "plt.show()"
      ]
    },
    {
      "cell_type": "markdown",
      "metadata": {
        "id": "QisYSkLCoJuC"
      },
      "source": [
        "Prediction on validation set"
      ]
    },
    {
      "cell_type": "code",
      "execution_count": null,
      "metadata": {
        "id": "TeRz6saSJASa"
      },
      "outputs": [],
      "source": [
        "# do prediction on X_test\n",
        "pred_test_e1d1 =model_e1d1.predict(X_test)\n",
        "\n",
        "# do prediction on X_train\n",
        "pred_train_e1d1 =model_e1d1.predict(X_train)\n"
      ]
    },
    {
      "cell_type": "markdown",
      "metadata": {
        "id": "yuL-6375oNuu"
      },
      "source": [
        "Inverse Scaling of the predicted values"
      ]
    },
    {
      "cell_type": "code",
      "execution_count": null,
      "metadata": {
        "id": "kka5WrCVKAFx"
      },
      "outputs": [],
      "source": [
        "for index,i in enumerate(train_df.columns):\n",
        "    scaler = scalers['scaler_'+i]\n",
        "    pred_test_e1d1[:,:,index] = scaler.inverse_transform(pred_test_e1d1[:,:,index])\n",
        "    pred_train_e1d1[:,:,index]=scaler.inverse_transform(pred_train_e1d1[:,:,index])\n",
        "    \n",
        "    y_train[:,:,index]=scaler.inverse_transform(y_train[:,:,index])\n",
        "    y_test[:,:,index]=scaler.inverse_transform(y_test[:,:,index])"
      ]
    },
    {
      "cell_type": "markdown",
      "metadata": {
        "id": "m-w0gYG-oep8"
      },
      "source": [
        "**Checking Error** "
      ]
    },
    {
      "cell_type": "code",
      "execution_count": null,
      "metadata": {
        "colab": {
          "base_uri": "https://localhost:8080/"
        },
        "id": "CWzFMl63djI3",
        "outputId": "d75ab597-d4cf-47fd-800b-81a88d83307b"
      },
      "outputs": [
        {
          "output_type": "stream",
          "name": "stdout",
          "text": [
            "Global_active_power\n",
            "Day 1 : MAE-E1D1 :  242.97029\n",
            "Day 2 : MAE-E1D1 :  255.53401\n",
            "Day 3 : MAE-E1D1 :  266.6925\n",
            "Day 4 : MAE-E1D1 :  271.515\n",
            "Day 5 : MAE-E1D1 :  278.2148\n",
            "\n",
            "\n",
            "Global_reactive_power\n",
            "Day 1 : MAE-E1D1 :  30.34012\n",
            "Day 2 : MAE-E1D1 :  31.710209\n",
            "Day 3 : MAE-E1D1 :  32.35749\n",
            "Day 4 : MAE-E1D1 :  32.73835\n",
            "Day 5 : MAE-E1D1 :  33.025024\n",
            "\n",
            "\n",
            "Voltage\n",
            "Day 1 : MAE-E1D1 :  1215.7314\n",
            "Day 2 : MAE-E1D1 :  1335.1632\n",
            "Day 3 : MAE-E1D1 :  1439.1141\n",
            "Day 4 : MAE-E1D1 :  1528.4009\n",
            "Day 5 : MAE-E1D1 :  1594.0426\n",
            "\n",
            "\n",
            "Global_intensity\n",
            "Day 1 : MAE-E1D1 :  1023.85443\n",
            "Day 2 : MAE-E1D1 :  1070.0708\n",
            "Day 3 : MAE-E1D1 :  1113.4523\n",
            "Day 4 : MAE-E1D1 :  1135.1857\n",
            "Day 5 : MAE-E1D1 :  1166.4244\n",
            "\n",
            "\n",
            "Sub_metering_1\n",
            "Day 1 : MAE-E1D1 :  989.42377\n",
            "Day 2 : MAE-E1D1 :  993.8548\n",
            "Day 3 : MAE-E1D1 :  1003.64777\n",
            "Day 4 : MAE-E1D1 :  1007.9447\n",
            "Day 5 : MAE-E1D1 :  1003.2231\n",
            "\n",
            "\n",
            "Sub_metering_2\n",
            "Day 1 : MAE-E1D1 :  1362.7279\n",
            "Day 2 : MAE-E1D1 :  1349.2821\n",
            "Day 3 : MAE-E1D1 :  1352.9741\n",
            "Day 4 : MAE-E1D1 :  1356.3392\n",
            "Day 5 : MAE-E1D1 :  1352.4393\n",
            "\n",
            "\n",
            "Sub_metering_3\n",
            "Day 1 : MAE-E1D1 :  2386.5706\n",
            "Day 2 : MAE-E1D1 :  2415.74\n",
            "Day 3 : MAE-E1D1 :  2508.5212\n",
            "Day 4 : MAE-E1D1 :  2571.0234\n",
            "Day 5 : MAE-E1D1 :  2637.6504\n",
            "\n",
            "\n"
          ]
        }
      ],
      "source": [
        "from sklearn.metrics import mean_absolute_error\n",
        " \n",
        "for index,i in enumerate(train_df.columns):\n",
        "  print(i)\n",
        "  for j in range(1,6):\n",
        "    print(\"Day\", j, \":\", \"MAE-E1D1 : \", mean_absolute_error(y_test[:,j-1,index],pred_test_e1d1[:,j-1,index]))\n",
        "  print()\n",
        "  print()\n",
        "  "
      ]
    },
    {
      "cell_type": "markdown",
      "metadata": {
        "id": "Iqz-sgbvRFKb"
      },
      "source": [
        "**Practice**\n",
        "\n",
        "Try to implement an Encoder-Decoder LSTM model with follow desscription\n",
        "\n",
        "E2D2 ==> Sequence to Sequence Model with two encoder layers and two decoder layers. "
      ]
    },
    {
      "cell_type": "code",
      "execution_count": 30,
      "metadata": {
        "colab": {
          "base_uri": "https://localhost:8080/"
        },
        "id": "ze7iac48h1JV",
        "outputId": "771a05a1-d6ad-4170-a4fc-ad679a371b1c"
      },
      "outputs": [
        {
          "output_type": "stream",
          "name": "stdout",
          "text": [
            "Model: \"model_4\"\n",
            "__________________________________________________________________________________________________\n",
            " Layer (type)                   Output Shape         Param #     Connected to                     \n",
            "==================================================================================================\n",
            " input_6 (InputLayer)           [(None, 10, 7)]      0           []                               \n",
            "                                                                                                  \n",
            " lstm_17 (LSTM)                 [(None, 100),        43200       ['input_6[0][0]']                \n",
            "                                 (None, 100),                                                     \n",
            "                                 (None, 100)]                                                     \n",
            "                                                                                                  \n",
            " repeat_vector_8 (RepeatVector)  (None, 5, 100)      0           ['lstm_17[0][0]']                \n",
            "                                                                                                  \n",
            " lstm_18 (LSTM)                 (None, 5, 100)       80400       ['repeat_vector_8[0][0]',        \n",
            "                                                                  'lstm_17[0][1]',                \n",
            "                                                                  'lstm_17[0][2]']                \n",
            "                                                                                                  \n",
            " time_distributed_5 (TimeDistri  (None, 5, 7)        707         ['lstm_18[0][0]']                \n",
            " buted)                                                                                           \n",
            "                                                                                                  \n",
            " lstm_19 (LSTM)                 [(None, 100),        43200       ['time_distributed_5[0][0]']     \n",
            "                                 (None, 100),                                                     \n",
            "                                 (None, 100)]                                                     \n",
            "                                                                                                  \n",
            " repeat_vector_9 (RepeatVector)  (None, 5, 100)      0           ['lstm_19[0][0]']                \n",
            "                                                                                                  \n",
            " lstm_20 (LSTM)                 (None, 5, 100)       80400       ['repeat_vector_9[0][0]',        \n",
            "                                                                  'lstm_19[0][1]',                \n",
            "                                                                  'lstm_19[0][2]']                \n",
            "                                                                                                  \n",
            " time_distributed_6 (TimeDistri  (None, 5, 7)        707         ['lstm_20[0][0]']                \n",
            " buted)                                                                                           \n",
            "                                                                                                  \n",
            "==================================================================================================\n",
            "Total params: 248,614\n",
            "Trainable params: 248,614\n",
            "Non-trainable params: 0\n",
            "__________________________________________________________________________________________________\n"
          ]
        }
      ],
      "source": [
        "# TODO: Define the E2D2 model with two encoder layers and two decoder layers. \n",
        "# n_features ==> no of features at each timestep in the data.\n",
        "#E2D2\n",
        "\n",
        "encoder_inputs = tf.keras.layers.Input(shape=(n_past, n_features))    # define the input layer with shape: (n_past, n_features)\n",
        "encoder_l1 = tf.keras.layers.LSTM(100, return_state=True)             # define the encoded LSTM layer with 100 LSTM units\n",
        "encoder_outputs1 = encoder_l1(encoder_inputs)                         # get the output of LSTM layer, including (encoder output, the encoder states)\n",
        "encoder_outputs_1 = encoder_outputs1[0]\n",
        "encoder_states_1 = encoder_outputs1[1:]\n",
        "#\n",
        "# because we predict 5 future observation, so the input should have 5 input\n",
        "# that why we use RepeatVector for repeating encoder output 5 times as the decoder inputs\n",
        "decoder_inputs = tf.keras.layers.RepeatVector(n_future)(encoder_outputs_1)\n",
        "# define the decoded LSTM layer, input the decoder inputs to get prediction\n",
        "decoder_l1 = tf.keras.layers.LSTM(100, return_sequences=True)(decoder_inputs,initial_state = encoder_states_1)\n",
        "decoder_output1=tf.keras.layers.TimeDistributed(tf.keras.layers.Dense(n_features))(decoder_l1)\n",
        "\n",
        "encoder_l2=tf.keras.layers.LSTM(100,return_state=True)\n",
        "encoder_outputs2=encoder_l2(decoder_output1)\n",
        "encoder_outputs_2=encoder_outputs2[0]\n",
        "encoder_states_2=encoder_outputs2[1:]\n",
        "\n",
        "decoder_inputs2 = tf.keras.layers.RepeatVector(n_future)(encoder_outputs_2)\n",
        "decoder_l2=tf.keras.layers.LSTM(100, return_sequences=True)(decoder_inputs2, initial_state = encoder_states_2)\n",
        "decoder_outputs2 = tf.keras.layers.TimeDistributed(tf.keras.layers.Dense(n_features))(decoder_l2)\n",
        "\n",
        "# define the e1d1 model by combine encoder and decoder together\n",
        "model_e2d2 = tf.keras.models.Model(encoder_inputs,decoder_outputs2)\n",
        "#\n",
        "model_e2d2.summary()\n",
        "\n"
      ]
    },
    {
      "cell_type": "markdown",
      "metadata": {
        "id": "klofyJB0T7fk"
      },
      "source": [
        "Train E2D2 model"
      ]
    },
    {
      "cell_type": "code",
      "execution_count": 31,
      "metadata": {
        "id": "-T0AkTBCRk2z",
        "colab": {
          "base_uri": "https://localhost:8080/"
        },
        "outputId": "13cb364e-a8e9-4b03-feba-1aee587ba33e"
      },
      "outputs": [
        {
          "output_type": "stream",
          "name": "stdout",
          "text": [
            "Epoch 1/25\n",
            "34/34 [==============================] - 16s 90ms/step - loss: 0.0661 - val_loss: 0.0397 - lr: 0.0010\n",
            "Epoch 2/25\n",
            "34/34 [==============================] - 1s 30ms/step - loss: 0.0396 - val_loss: 0.0341 - lr: 9.0000e-04\n",
            "Epoch 3/25\n",
            "34/34 [==============================] - 1s 32ms/step - loss: 0.0367 - val_loss: 0.0321 - lr: 8.1000e-04\n",
            "Epoch 4/25\n",
            "34/34 [==============================] - 1s 32ms/step - loss: 0.0353 - val_loss: 0.0318 - lr: 7.2900e-04\n",
            "Epoch 5/25\n",
            "34/34 [==============================] - 1s 32ms/step - loss: 0.0350 - val_loss: 0.0314 - lr: 6.5610e-04\n",
            "Epoch 6/25\n",
            "34/34 [==============================] - 1s 30ms/step - loss: 0.0346 - val_loss: 0.0304 - lr: 5.9049e-04\n",
            "Epoch 7/25\n",
            "34/34 [==============================] - 1s 29ms/step - loss: 0.0342 - val_loss: 0.0312 - lr: 5.3144e-04\n",
            "Epoch 8/25\n",
            "34/34 [==============================] - 1s 30ms/step - loss: 0.0341 - val_loss: 0.0310 - lr: 4.7830e-04\n",
            "Epoch 9/25\n",
            "34/34 [==============================] - 1s 30ms/step - loss: 0.0337 - val_loss: 0.0305 - lr: 4.3047e-04\n",
            "Epoch 10/25\n",
            "34/34 [==============================] - 1s 30ms/step - loss: 0.0337 - val_loss: 0.0299 - lr: 3.8742e-04\n",
            "Epoch 11/25\n",
            "34/34 [==============================] - 1s 29ms/step - loss: 0.0336 - val_loss: 0.0303 - lr: 3.4868e-04\n",
            "Epoch 12/25\n",
            "34/34 [==============================] - 1s 30ms/step - loss: 0.0335 - val_loss: 0.0305 - lr: 3.1381e-04\n",
            "Epoch 13/25\n",
            "34/34 [==============================] - 1s 29ms/step - loss: 0.0335 - val_loss: 0.0303 - lr: 2.8243e-04\n",
            "Epoch 14/25\n",
            "34/34 [==============================] - 1s 30ms/step - loss: 0.0334 - val_loss: 0.0300 - lr: 2.5419e-04\n",
            "Epoch 15/25\n",
            "34/34 [==============================] - 1s 32ms/step - loss: 0.0333 - val_loss: 0.0304 - lr: 2.2877e-04\n",
            "Epoch 16/25\n",
            "34/34 [==============================] - 1s 31ms/step - loss: 0.0333 - val_loss: 0.0302 - lr: 2.0589e-04\n",
            "Epoch 17/25\n",
            "34/34 [==============================] - 1s 30ms/step - loss: 0.0332 - val_loss: 0.0301 - lr: 1.8530e-04\n",
            "Epoch 18/25\n",
            "34/34 [==============================] - 1s 30ms/step - loss: 0.0333 - val_loss: 0.0301 - lr: 1.6677e-04\n",
            "Epoch 19/25\n",
            "34/34 [==============================] - 1s 29ms/step - loss: 0.0331 - val_loss: 0.0298 - lr: 1.5009e-04\n",
            "Epoch 20/25\n",
            "34/34 [==============================] - 1s 29ms/step - loss: 0.0331 - val_loss: 0.0304 - lr: 1.3509e-04\n",
            "Epoch 21/25\n",
            "34/34 [==============================] - 1s 29ms/step - loss: 0.0331 - val_loss: 0.0301 - lr: 1.2158e-04\n",
            "Epoch 22/25\n",
            "34/34 [==============================] - 1s 29ms/step - loss: 0.0331 - val_loss: 0.0299 - lr: 1.0942e-04\n",
            "Epoch 23/25\n",
            "34/34 [==============================] - 1s 29ms/step - loss: 0.0330 - val_loss: 0.0299 - lr: 9.8477e-05\n",
            "Epoch 24/25\n",
            "34/34 [==============================] - 2s 47ms/step - loss: 0.0330 - val_loss: 0.0300 - lr: 8.8629e-05\n",
            "Epoch 25/25\n",
            "34/34 [==============================] - 1s 30ms/step - loss: 0.0330 - val_loss: 0.0299 - lr: 7.9766e-05\n"
          ]
        }
      ],
      "source": [
        "# TODO: Compile the Adam optimizer and Huber loss then train E2D2 model\n",
        "X_train, y_train = split_series(train,n_past,n_future)\n",
        "X_test, y_test =split_series(test,n_past,n_future)\n",
        "\n",
        "reduce_lr = tf.keras.callbacks.LearningRateScheduler(lambda x: 1e-3 * 0.90 ** x)\n",
        "\n",
        "model_e2d2.compile(optimizer=tf.keras.optimizers.Adam(), loss=tf.keras.losses.Huber())\n",
        "history_e2d2=model_e2d2.fit(X_train,y_train,epochs=25,validation_data=(X_test,y_test),batch_size=32,verbose=1,callbacks=[reduce_lr])"
      ]
    },
    {
      "cell_type": "markdown",
      "metadata": {
        "id": "TPbD9xX4cYF_"
      },
      "source": [
        "Show the training loss"
      ]
    },
    {
      "cell_type": "code",
      "execution_count": 32,
      "metadata": {
        "id": "At-5JNsJI2lJ",
        "colab": {
          "base_uri": "https://localhost:8080/",
          "height": 295
        },
        "outputId": "da1960c7-61f9-4f12-8740-2692974ef990"
      },
      "outputs": [
        {
          "output_type": "display_data",
          "data": {
            "text/plain": [
              "<Figure size 432x288 with 1 Axes>"
            ],
            "image/png": "[encoded data removed]"
          },
          "metadata": {
            "needs_background": "light"
          }
        }
      ],
      "source": [
        "# TODO: Show the training and validation loss of E2D2\n",
        "\n",
        "plt.plot(history_e2d2.history['loss'])\n",
        "plt.plot(history_e2d2.history['val_loss'])\n",
        "plt.title(\"E2D2 Model Loss\")\n",
        "plt.xlabel('Epochs')\n",
        "plt.ylabel('Loss')\n",
        "plt.legend(['Train', 'Valid'])\n",
        "plt.show()"
      ]
    },
    {
      "cell_type": "markdown",
      "metadata": {
        "id": "5Bxxp2zpdK5d"
      },
      "source": [
        "Make prediction, make reverse scaling the predicted values and compute MSE"
      ]
    },
    {
      "cell_type": "code",
      "execution_count": 33,
      "metadata": {
        "id": "cksR4luXSZfI",
        "colab": {
          "base_uri": "https://localhost:8080/"
        },
        "outputId": "eacf6eae-8b15-43cc-f8c4-f865515e85dc"
      },
      "outputs": [
        {
          "output_type": "stream",
          "name": "stdout",
          "text": [
            "Global_active_power\n",
            "Day 1 : MAE-E2D2 :  245.82086\n",
            "Day 2 : MAE-E2D2 :  258.1721\n",
            "Day 3 : MAE-E2D2 :  272.66803\n",
            "Day 4 : MAE-E2D2 :  275.51883\n",
            "Day 5 : MAE-E2D2 :  277.67392\n",
            "\n",
            "\n",
            "Global_reactive_power\n",
            "Day 1 : MAE-E2D2 :  29.222746\n",
            "Day 2 : MAE-E2D2 :  30.677977\n",
            "Day 3 : MAE-E2D2 :  31.164429\n",
            "Day 4 : MAE-E2D2 :  31.629414\n",
            "Day 5 : MAE-E2D2 :  32.05416\n",
            "\n",
            "\n",
            "Voltage\n",
            "Day 1 : MAE-E2D2 :  1182.7478\n",
            "Day 2 : MAE-E2D2 :  1326.1155\n",
            "Day 3 : MAE-E2D2 :  1434.7096\n",
            "Day 4 : MAE-E2D2 :  1519.8562\n",
            "Day 5 : MAE-E2D2 :  1587.6573\n",
            "\n",
            "\n",
            "Global_intensity\n",
            "Day 1 : MAE-E2D2 :  1033.3301\n",
            "Day 2 : MAE-E2D2 :  1080.549\n",
            "Day 3 : MAE-E2D2 :  1143.4153\n",
            "Day 4 : MAE-E2D2 :  1157.6522\n",
            "Day 5 : MAE-E2D2 :  1169.7854\n",
            "\n",
            "\n",
            "Sub_metering_1\n",
            "Day 1 : MAE-E2D2 :  1026.6704\n",
            "Day 2 : MAE-E2D2 :  1027.4221\n",
            "Day 3 : MAE-E2D2 :  1024.1833\n",
            "Day 4 : MAE-E2D2 :  1022.01245\n",
            "Day 5 : MAE-E2D2 :  1024.0342\n",
            "\n",
            "\n",
            "Sub_metering_2\n",
            "Day 1 : MAE-E2D2 :  1366.38\n",
            "Day 2 : MAE-E2D2 :  1348.9003\n",
            "Day 3 : MAE-E2D2 :  1351.4617\n",
            "Day 4 : MAE-E2D2 :  1366.0651\n",
            "Day 5 : MAE-E2D2 :  1376.8608\n",
            "\n",
            "\n",
            "Sub_metering_3\n",
            "Day 1 : MAE-E2D2 :  2395.879\n",
            "Day 2 : MAE-E2D2 :  2416.6785\n",
            "Day 3 : MAE-E2D2 :  2499.4128\n",
            "Day 4 : MAE-E2D2 :  2545.451\n",
            "Day 5 : MAE-E2D2 :  2590.1511\n",
            "\n",
            "\n",
            "Conclusion: the E1D1 is better since the E2D2 is likely to overfit\n"
          ]
        }
      ],
      "source": [
        "# Make prediction, make reverse scaling the predicted values and compute MSE\n",
        "# do prediction on X_test\n",
        "pred_test_e2d2 =model_e2d2.predict(X_test)\n",
        "\n",
        "# do prediction on X_train\n",
        "pred_train_e2d2 =model_e2d2.predict(X_train)\n",
        "\n",
        "for index,i in enumerate(train_df.columns):\n",
        "    scaler = scalers['scaler_'+i]\n",
        "    pred_test_e2d2[:,:,index] = scaler.inverse_transform(pred_test_e2d2[:,:,index])\n",
        "    pred_train_e2d2[:,:,index]=scaler.inverse_transform(pred_train_e2d2[:,:,index])\n",
        "    \n",
        "    y_train[:,:,index]=scaler.inverse_transform(y_train[:,:,index])\n",
        "    y_test[:,:,index]=scaler.inverse_transform(y_test[:,:,index])\n",
        "\n",
        " \n",
        "for index,i in enumerate(train_df.columns):\n",
        "  print(i)\n",
        "  for j in range(1,6):\n",
        "    print(\"Day\", j, \":\", \"MAE-E2D2 : \", mean_absolute_error(y_test[:,j-1,index],pred_test_e2d2[:,j-1,index]))\n",
        "  print()\n",
        "  print()\n",
        "  \n",
        "\n",
        "print(\"Conclusion: the E1D1 is better since the E2D2 is likely to overfit\")  "
      ]
    }
  ],
  "metadata": {
    "colab": {
      "collapsed_sections": [],
      "name": "lstm_b08502173-2.ipynb",
      "provenance": [],
      "include_colab_link": true
    },
    "interpreter": {
      "hash": "ad2bdc8ecc057115af97d19610ffacc2b4e99fae6737bb82f5d7fb13d2f2c186"
    },
    "kernelspec": {
      "display_name": "Python 3.9.7 ('base')",
      "language": "python",
      "name": "python3"
    },
    "language_info": {
      "codemirror_mode": {
        "name": "ipython",
        "version": 3
      },
      "file_extension": ".py",
      "mimetype": "text/x-python",
      "name": "python",
      "nbconvert_exporter": "python",
      "pygments_lexer": "ipython3",
      "version": "3.9.7"
    }
  },
  "nbformat": 4,
  "nbformat_minor": 0
}